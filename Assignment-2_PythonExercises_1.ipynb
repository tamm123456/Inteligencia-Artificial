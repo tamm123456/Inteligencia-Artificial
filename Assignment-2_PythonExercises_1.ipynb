{
  "nbformat": 4,
  "nbformat_minor": 0,
  "metadata": {
    "colab": {
      "provenance": [],
      "authorship_tag": "ABX9TyPT2pU4YsAPpQ6PtSgRTsRm",
      "include_colab_link": true
    },
    "kernelspec": {
      "name": "python3",
      "display_name": "Python 3"
    },
    "language_info": {
      "name": "python"
    }
  },
  "cells": [
    {
      "cell_type": "markdown",
      "metadata": {
        "id": "view-in-github",
        "colab_type": "text"
      },
      "source": [
        "<a href=\"https://colab.research.google.com/github/tamm123456/Inteligencia-Artificial/blob/main/Tarea_1.ipynb\" target=\"_parent\"><img src=\"https://colab.research.google.com/assets/colab-badge.svg\" alt=\"Open In Colab\"/></a>"
      ]
    },
    {
      "cell_type": "code",
      "source": [
        "# Hangman Game con nombres de canciones de Hannah Montana\n",
        "\n",
        "import random\n",
        "\n",
        "def hangman():\n",
        "    songs = [\n",
        "        'The Best of Both Worlds', 'Nobody\\'s Perfect', 'Rock Star',\n",
        "        'Life\\'s What You Make It', 'We Got the Party', 'Make Some Noise',\n",
        "        'True Friend', 'One in a Million', 'Bigger Than Us', 'You and Me Together'\n",
        "    ]\n",
        "    song = random.choice(songs).lower()\n",
        "    guessed_word = ['_' if char.isalpha() else char for char in song]\n",
        "    attempts = 6\n",
        "    guessed_letters = set()\n",
        "\n",
        "    while attempts > 0 and '_' in guessed_word:\n",
        "        print(' '.join(guessed_word))\n",
        "        guess = input('Adivina una letra: ').lower()\n",
        "\n",
        "        if guess in guessed_letters:\n",
        "            print('Ya adivinaste esa letra.')\n",
        "        elif guess in song:\n",
        "            for i, letter in enumerate(song):\n",
        "                if letter == guess:\n",
        "                    guessed_word[i] = guess\n",
        "        else:\n",
        "            attempts -= 1\n",
        "            print(f'Letra incorrecta. Te quedan {attempts} intentos.')\n",
        "\n",
        "        guessed_letters.add(guess)\n",
        "\n",
        "    if '_' not in guessed_word:\n",
        "        print(f'¡Felicidades! Adivinaste la canción: {song}')\n",
        "    else:\n",
        "        print(f'Lo siento, te quedaste sin intentos. La canción era: {song}')\n",
        "\n",
        "hangman()\n"
      ],
      "metadata": {
        "colab": {
          "base_uri": "https://localhost:8080/"
        },
        "id": "cjfIbouBk81c",
        "outputId": "50be8d32-59c9-4567-9b18-a15141a06ca4"
      },
      "execution_count": null,
      "outputs": [
        {
          "output_type": "stream",
          "name": "stdout",
          "text": [
            "_ _ _ _ _ _   _ _ _ _   _ _\n"
          ]
        }
      ]
    },
    {
      "cell_type": "code",
      "source": [
        "# Number Guessing Game\n",
        "\n",
        "import random\n",
        "\n",
        "def number_guessing_game():\n",
        "    number = random.randint(1, 100)\n",
        "    guess = None\n",
        "\n",
        "    while guess != number:\n",
        "        guess = int(input('Adivina un número entre 1 y 100: '))\n",
        "\n",
        "        if guess < number:\n",
        "            print('¡Muy bajo!')\n",
        "        elif guess > number:\n",
        "            print('¡Muy alto!')\n",
        "        else:\n",
        "            print('¡Felicidades! Adivinaste el número.')\n",
        "\n",
        "# Ejemplo de uso\n",
        "number_guessing_game()\n"
      ],
      "metadata": {
        "colab": {
          "base_uri": "https://localhost:8080/"
        },
        "id": "XcFJmyomlGEk",
        "outputId": "4d7bed6f-4563-4157-c21a-ff25336c9f4c"
      },
      "execution_count": 18,
      "outputs": [
        {
          "output_type": "stream",
          "name": "stdout",
          "text": [
            "Adivina un número entre 1 y 100: 9\n",
            "¡Muy bajo!\n",
            "Adivina un número entre 1 y 100: 20\n",
            "¡Muy bajo!\n",
            "Adivina un número entre 1 y 100: 99\n",
            "¡Muy alto!\n",
            "Adivina un número entre 1 y 100: 82\n",
            "¡Muy bajo!\n",
            "Adivina un número entre 1 y 100: 80\n",
            "¡Muy bajo!\n",
            "Adivina un número entre 1 y 100: 85\n",
            "¡Muy alto!\n",
            "Adivina un número entre 1 y 100: 83\n",
            "¡Muy bajo!\n",
            "Adivina un número entre 1 y 100: 84\n",
            "¡Felicidades! Adivinaste el número.\n"
          ]
        }
      ]
    }
  ]
}
